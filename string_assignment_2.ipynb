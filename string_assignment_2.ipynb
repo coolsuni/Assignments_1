{
 "cells": [
  {
   "cell_type": "code",
   "execution_count": null,
   "id": "56270bcb-cb22-4768-af16-918b7fdaa5d4",
   "metadata": {},
   "outputs": [],
   "source": [
    "                                      # STRING BASED PROBLEMS"
   ]
  },
  {
   "cell_type": "code",
   "execution_count": null,
   "id": "f1048c68-9da2-4af1-9ed0-356e00e6962b",
   "metadata": {},
   "outputs": [],
   "source": [
    "#1)to reverse a string\n",
    "\n"
   ]
  },
  {
   "cell_type": "code",
   "execution_count": 14,
   "id": "03e0044b-f8f2-4eee-b429-d22aab4259af",
   "metadata": {},
   "outputs": [],
   "source": [
    "#to input string\n",
    "a=str(input)"
   ]
  },
  {
   "cell_type": "code",
   "execution_count": 15,
   "id": "64e14b5a-e840-4e7b-abd5-99b9a87f75ef",
   "metadata": {},
   "outputs": [],
   "source": [
    "a=\"India is a beautiful country\""
   ]
  },
  {
   "cell_type": "code",
   "execution_count": 16,
   "id": "2fc1acc2-efbf-449a-a0eb-38d32e1b3477",
   "metadata": {},
   "outputs": [],
   "source": [
    "#to read the string backwards\n",
    "b=a[::-1]"
   ]
  },
  {
   "cell_type": "code",
   "execution_count": 18,
   "id": "be108121-424b-486c-842f-c2794c3bcf40",
   "metadata": {},
   "outputs": [
    {
     "name": "stdout",
     "output_type": "stream",
     "text": [
      "the reverse of above string is: yrtnuoc lufituaeb a si aidnI\n"
     ]
    }
   ],
   "source": [
    "print(\"the reverse of above string is:\", b)"
   ]
  },
  {
   "cell_type": "code",
   "execution_count": 29,
   "id": "ee89ed2c-55b8-47e3-a422-9aa1ac86ad5b",
   "metadata": {},
   "outputs": [],
   "source": [
    "#2)to check if string is pallindrome \n",
    "\n"
   ]
  },
  {
   "cell_type": "code",
   "execution_count": 20,
   "id": "2b7f8187-37fb-4708-8750-6fcebce30c0f",
   "metadata": {},
   "outputs": [],
   "source": [
    "#to input string\n",
    "c=str(input)"
   ]
  },
  {
   "cell_type": "code",
   "execution_count": 21,
   "id": "67c1638a-3b55-4b5a-903d-878ea7f9b776",
   "metadata": {},
   "outputs": [],
   "source": [
    "c=\" woo young woo\""
   ]
  },
  {
   "cell_type": "code",
   "execution_count": 22,
   "id": "b12f7350-cb51-4709-805b-a265ad8e533c",
   "metadata": {},
   "outputs": [],
   "source": [
    "# to check if forward string==backward string\n",
    "d= c[0:14]==c[::-1]"
   ]
  },
  {
   "cell_type": "code",
   "execution_count": 23,
   "id": "0aa6d3c4-5f18-4345-8ba6-034b237375c3",
   "metadata": {},
   "outputs": [
    {
     "name": "stdout",
     "output_type": "stream",
     "text": [
      " is the above string a pallindrome: False\n"
     ]
    }
   ],
   "source": [
    "print(\" is the above string a pallindrome:\", d)"
   ]
  },
  {
   "cell_type": "code",
   "execution_count": 43,
   "id": "c68d4c75-f6b0-4bd1-aca8-8d8640949644",
   "metadata": {},
   "outputs": [],
   "source": [
    "#3)to convert string to uppercase\n",
    "\n"
   ]
  },
  {
   "cell_type": "code",
   "execution_count": 44,
   "id": "a03fe531-e293-42d8-a1f7-8d494568a17c",
   "metadata": {},
   "outputs": [],
   "source": [
    "#to input string\n",
    "c=str(input)"
   ]
  },
  {
   "cell_type": "code",
   "execution_count": 52,
   "id": "e5507de8-ea79-4a91-af3e-da3b06e8d349",
   "metadata": {},
   "outputs": [],
   "source": [
    "c=\"morocco was recently hit by earthquake\""
   ]
  },
  {
   "cell_type": "code",
   "execution_count": 53,
   "id": "497f77ae-ce7e-46e8-8d3f-5ae1eacaf7f2",
   "metadata": {},
   "outputs": [],
   "source": [
    "#to convert to uppercase\n",
    "d=c.upper()"
   ]
  },
  {
   "cell_type": "code",
   "execution_count": 54,
   "id": "1d12545e-4630-4643-bc30-f7349500bce2",
   "metadata": {},
   "outputs": [
    {
     "name": "stdout",
     "output_type": "stream",
     "text": [
      "MOROCCO WAS RECENTLY HIT BY EARTHQUAKE\n"
     ]
    }
   ],
   "source": [
    "print(d)"
   ]
  },
  {
   "cell_type": "code",
   "execution_count": 55,
   "id": "168cf945-3888-4804-b343-0e807ce4ae9a",
   "metadata": {},
   "outputs": [],
   "source": [
    "#4)to convert string to lowercase\n",
    "\n"
   ]
  },
  {
   "cell_type": "code",
   "execution_count": 56,
   "id": "11c42cd0-261d-4ca3-8356-d55c971ef7e8",
   "metadata": {},
   "outputs": [],
   "source": [
    "#to input string\n",
    "c=str(input)"
   ]
  },
  {
   "cell_type": "code",
   "execution_count": 57,
   "id": "ea678d3c-9bfe-4f3e-8ac4-47c2a7af16f5",
   "metadata": {},
   "outputs": [],
   "source": [
    "c=\" DHOLAVIRA IS A UNESCO HERITAGE SITE\""
   ]
  },
  {
   "cell_type": "code",
   "execution_count": 58,
   "id": "906fce17-e2e1-45d5-9654-e558af4eb94f",
   "metadata": {},
   "outputs": [],
   "source": [
    "#to convert to lowercase\n",
    "d=c.lower()"
   ]
  },
  {
   "cell_type": "code",
   "execution_count": 59,
   "id": "c54fca91-02ef-4104-a20b-8f53255268cd",
   "metadata": {},
   "outputs": [
    {
     "name": "stdout",
     "output_type": "stream",
     "text": [
      " dholavira is a unesco heritage site\n"
     ]
    }
   ],
   "source": [
    "print(d)"
   ]
  },
  {
   "cell_type": "code",
   "execution_count": 60,
   "id": "a202bbfc-c764-4fa8-a772-62baed1bc31b",
   "metadata": {},
   "outputs": [],
   "source": [
    "#5)to count the number of vowels\n",
    "\n"
   ]
  },
  {
   "cell_type": "code",
   "execution_count": 93,
   "id": "744220ca-c6c4-468e-b9d1-0d63a6d69f22",
   "metadata": {},
   "outputs": [],
   "source": [
    "#to input string\n",
    "s=str(input)"
   ]
  },
  {
   "cell_type": "code",
   "execution_count": 94,
   "id": "225ea9c6-c2d6-4022-a3e2-8c3051528c9a",
   "metadata": {},
   "outputs": [],
   "source": [
    "s=\"ArgentINA\""
   ]
  },
  {
   "cell_type": "code",
   "execution_count": 95,
   "id": "f380da98-e75f-4ec9-bc1a-f2b3152050f1",
   "metadata": {},
   "outputs": [
    {
     "data": {
      "text/plain": [
       "'argentina'"
      ]
     },
     "execution_count": 95,
     "metadata": {},
     "output_type": "execute_result"
    }
   ],
   "source": [
    "#to convert to lowercase\n",
    "s.lower()"
   ]
  },
  {
   "cell_type": "code",
   "execution_count": 96,
   "id": "f5028d35-5341-43ab-b21c-96c7381c47e2",
   "metadata": {},
   "outputs": [],
   "source": [
    "vowels=0"
   ]
  },
  {
   "cell_type": "code",
   "execution_count": 103,
   "id": "6ffb3d0f-9de2-4173-8113-682524d36228",
   "metadata": {},
   "outputs": [],
   "source": [
    "#to count the number of vowels in string\n",
    "for i in s:\n",
    "      if (i=='a' or i=='e' or i=='o' or i=='u' or i=='i'):\n",
    "          vowels= vowels+1"
   ]
  },
  {
   "cell_type": "code",
   "execution_count": 104,
   "id": "d8964a42-9227-4657-9aaf-7bd27cd51e68",
   "metadata": {},
   "outputs": [
    {
     "name": "stdout",
     "output_type": "stream",
     "text": [
      "the number of vowels in the string is: 4\n"
     ]
    }
   ],
   "source": [
    "print(\"the number of vowels in the string is:\", vowels)"
   ]
  },
  {
   "cell_type": "code",
   "execution_count": 90,
   "id": "b05c6501-0f58-4988-92fa-a53e4221c916",
   "metadata": {},
   "outputs": [],
   "source": [
    "#6)to count the number of consonants in a string\n",
    "\n"
   ]
  },
  {
   "cell_type": "code",
   "execution_count": 136,
   "id": "24b61f98-f87b-43ef-9676-2fa6e745347d",
   "metadata": {},
   "outputs": [],
   "source": [
    "#to input string\n",
    "s=str(input)"
   ]
  },
  {
   "cell_type": "code",
   "execution_count": 137,
   "id": "3d55e21e-7ec3-4c32-969c-297de26cf37f",
   "metadata": {},
   "outputs": [],
   "source": [
    "s=\"india is a beautiful country\""
   ]
  },
  {
   "cell_type": "code",
   "execution_count": 138,
   "id": "f300ac65-b655-44b5-843a-79c831c3e0d3",
   "metadata": {},
   "outputs": [
    {
     "data": {
      "text/plain": [
       "'india is a beautiful country'"
      ]
     },
     "execution_count": 138,
     "metadata": {},
     "output_type": "execute_result"
    }
   ],
   "source": [
    "s.lower()"
   ]
  },
  {
   "cell_type": "code",
   "execution_count": 139,
   "id": "50cfd09b-53f4-40d1-bb1b-f707fad18502",
   "metadata": {},
   "outputs": [
    {
     "data": {
      "text/plain": [
       "'indiaisabeautifulcountry'"
      ]
     },
     "execution_count": 139,
     "metadata": {},
     "output_type": "execute_result"
    }
   ],
   "source": [
    "s.replace(\" \",\"\")"
   ]
  },
  {
   "cell_type": "code",
   "execution_count": 140,
   "id": "a8933ad3-4bd9-4fb1-87e1-9f4282fafb07",
   "metadata": {},
   "outputs": [],
   "source": [
    "vowels='aeiou'"
   ]
  },
  {
   "cell_type": "code",
   "execution_count": 141,
   "id": "f599ede4-823a-4fd6-8a3d-9def6c1220ac",
   "metadata": {},
   "outputs": [],
   "source": [
    "#initialize vowel counter\n",
    "v_count=0"
   ]
  },
  {
   "cell_type": "code",
   "execution_count": 142,
   "id": "74c878f0-4088-4298-b3c3-58601b83cc14",
   "metadata": {},
   "outputs": [],
   "source": [
    "#initialize consonant counter\n",
    "c_count=0"
   ]
  },
  {
   "cell_type": "code",
   "execution_count": 143,
   "id": "0f17fe12-d2d6-48de-bf44-c72f0af0afe1",
   "metadata": {},
   "outputs": [],
   "source": [
    "#to count the number of vowels and consonants in string\n",
    "for i in s:\n",
    "      if (i=='a' or i=='e' or i=='o' or i=='u' or i=='i'):\n",
    "          v_count= v_count+1\n",
    "      else:\n",
    "          c_count= c_count+1"
   ]
  },
  {
   "cell_type": "code",
   "execution_count": 146,
   "id": "d00f97bb-5b76-409c-b3bd-c0a94d9287f7",
   "metadata": {},
   "outputs": [
    {
     "name": "stdout",
     "output_type": "stream",
     "text": [
      "the number of vowels in the string is: 12\n"
     ]
    }
   ],
   "source": [
    "print(\"the number of vowels in the string is:\",v_count)"
   ]
  },
  {
   "cell_type": "code",
   "execution_count": 147,
   "id": "3383474f-ba2c-41fb-8608-4be89588e508",
   "metadata": {},
   "outputs": [
    {
     "name": "stdout",
     "output_type": "stream",
     "text": [
      "the number of consonants in the string is: 16\n"
     ]
    }
   ],
   "source": [
    "print(\"the number of consonants in the string is:\",c_count)"
   ]
  },
  {
   "cell_type": "code",
   "execution_count": 111,
   "id": "9a0d934a-5aa8-43f1-8b29-5234500e7211",
   "metadata": {},
   "outputs": [],
   "source": [
    "#7)to remove all whitespaces\n",
    "\n"
   ]
  },
  {
   "cell_type": "code",
   "execution_count": 110,
   "id": "312e5168-ad3c-4b25-8a93-110e3de7be3f",
   "metadata": {},
   "outputs": [],
   "source": [
    "#to input string\n",
    "s=str(input)"
   ]
  },
  {
   "cell_type": "code",
   "execution_count": 111,
   "id": "5afa504e-c758-4c5f-900f-5aa6dbf3fa5f",
   "metadata": {},
   "outputs": [],
   "source": [
    "s=\" planting more trees is required\""
   ]
  },
  {
   "cell_type": "code",
   "execution_count": 120,
   "id": "78c75164-1fc2-4ef1-b749-b756d647e6fa",
   "metadata": {},
   "outputs": [],
   "source": [
    "#remove all spaces\n",
    "y=s.replace(\" \",\"\")"
   ]
  },
  {
   "cell_type": "code",
   "execution_count": 121,
   "id": "e2fd1763-3c55-48b3-85f6-9e654e01a75a",
   "metadata": {},
   "outputs": [
    {
     "name": "stdout",
     "output_type": "stream",
     "text": [
      "plantingmoretreesisrequired\n"
     ]
    }
   ],
   "source": [
    "print(y)"
   ]
  },
  {
   "cell_type": "code",
   "execution_count": 122,
   "id": "746c2c2b-caf2-4d1f-8cf4-15fbeb18ed05",
   "metadata": {},
   "outputs": [],
   "source": [
    "# 8)to find length without len function\n",
    "\n"
   ]
  },
  {
   "cell_type": "code",
   "execution_count": 148,
   "id": "71d78a68-7211-41a2-b477-980472a0ddc9",
   "metadata": {},
   "outputs": [],
   "source": [
    "#to input string\n",
    "s=str(input)"
   ]
  },
  {
   "cell_type": "code",
   "execution_count": 149,
   "id": "d0339065-e5b2-4ed2-b44e-9b38ce9047eb",
   "metadata": {},
   "outputs": [],
   "source": [
    "s=(\"haemoglobin\")"
   ]
  },
  {
   "cell_type": "code",
   "execution_count": 150,
   "id": "416eb9a6-c354-4567-b062-1634eea3844d",
   "metadata": {},
   "outputs": [],
   "source": [
    "count=0"
   ]
  },
  {
   "cell_type": "code",
   "execution_count": 151,
   "id": "692b3658-3c7f-4825-bd1a-d54455bf32dd",
   "metadata": {},
   "outputs": [],
   "source": [
    "#initialize counter from 0 to lenth of string\n",
    "for i in s:\n",
    "    count=count+1"
   ]
  },
  {
   "cell_type": "code",
   "execution_count": 152,
   "id": "ba7f42ce-c7f7-4137-92b6-8fa18e4f00ab",
   "metadata": {},
   "outputs": [
    {
     "name": "stdout",
     "output_type": "stream",
     "text": [
      "the length of the string is: 11\n"
     ]
    }
   ],
   "source": [
    "print(\"the length of the string is:\",count)"
   ]
  },
  {
   "cell_type": "code",
   "execution_count": 153,
   "id": "e66fca26-7c24-4b0e-9cd6-53dafb4f5d1b",
   "metadata": {},
   "outputs": [],
   "source": [
    "#9)check string for specific word\n",
    "\n"
   ]
  },
  {
   "cell_type": "code",
   "execution_count": 172,
   "id": "75571c16-20b7-44ae-89bd-0dcbf41f5461",
   "metadata": {},
   "outputs": [],
   "source": [
    "s=str(input)"
   ]
  },
  {
   "cell_type": "code",
   "execution_count": 173,
   "id": "7e15c887-9bfd-4b2b-b9e7-f8eb51bcbdfb",
   "metadata": {},
   "outputs": [],
   "source": [
    "s=\"rock the dance floor\""
   ]
  },
  {
   "cell_type": "code",
   "execution_count": 174,
   "id": "36fbf882-5875-445a-b035-9124521e7a0d",
   "metadata": {},
   "outputs": [
    {
     "name": "stdout",
     "output_type": "stream",
     "text": [
      "the substring found\n"
     ]
    }
   ],
   "source": [
    "#function to find substring in string\n",
    "if (s.find('dance')==-1):\n",
    "    print(\"the substring not found\")\n",
    "else:\n",
    "    print(\"the substring found\")\n",
    "    "
   ]
  },
  {
   "cell_type": "code",
   "execution_count": 175,
   "id": "d7dd3afb-41a4-4ef5-84d5-738c11632937",
   "metadata": {},
   "outputs": [],
   "source": [
    "#10) replace word with another word\n",
    "\n"
   ]
  },
  {
   "cell_type": "code",
   "execution_count": 176,
   "id": "1e835be8-fc93-4221-9406-962b89384bd1",
   "metadata": {},
   "outputs": [],
   "source": [
    "s=str(input)"
   ]
  },
  {
   "cell_type": "code",
   "execution_count": 177,
   "id": "21c5b049-328f-4fa2-9fe6-54f7b602dd3c",
   "metadata": {},
   "outputs": [],
   "source": [
    "s=(\" this is a beautiful world\")"
   ]
  },
  {
   "cell_type": "code",
   "execution_count": 179,
   "id": "90be9f90-3b88-476a-98fc-8562d3120cc8",
   "metadata": {},
   "outputs": [
    {
     "name": "stdout",
     "output_type": "stream",
     "text": [
      " it is a beautiful world\n"
     ]
    }
   ],
   "source": [
    "#function to replace a word\n",
    "print(s.replace(\"this\",\"it\"))"
   ]
  },
  {
   "cell_type": "code",
   "execution_count": 180,
   "id": "117a9aa6-3750-4cd4-b058-b8ac759ebb41",
   "metadata": {},
   "outputs": [],
   "source": [
    "#11) count occurences of word in string\n",
    "\n"
   ]
  },
  {
   "cell_type": "code",
   "execution_count": 229,
   "id": "ed3bad00-b8f5-4883-b280-948b43b385a5",
   "metadata": {},
   "outputs": [],
   "source": [
    "s=str(input)"
   ]
  },
  {
   "cell_type": "code",
   "execution_count": 230,
   "id": "9a3a54cb-11ca-4e27-981b-785efeddeaeb",
   "metadata": {},
   "outputs": [],
   "source": [
    "s= \"too good too be true\""
   ]
  },
  {
   "cell_type": "code",
   "execution_count": 231,
   "id": "35b237bb-485c-41b9-9929-37b9ede9cff7",
   "metadata": {},
   "outputs": [
    {
     "name": "stdout",
     "output_type": "stream",
     "text": [
      "3\n"
     ]
    }
   ],
   "source": [
    "#function to count occurence of a word\n",
    "print(s.count('t'))"
   ]
  },
  {
   "cell_type": "code",
   "execution_count": 184,
   "id": "34eb20ff-4088-4735-99e1-f819a790b466",
   "metadata": {},
   "outputs": [],
   "source": [
    "# 12)1st occurence of word in string\n",
    "\n"
   ]
  },
  {
   "cell_type": "code",
   "execution_count": 235,
   "id": "a5802a53-1241-4938-ac24-fcf2b8b358a7",
   "metadata": {},
   "outputs": [],
   "source": [
    "s=str(input)"
   ]
  },
  {
   "cell_type": "code",
   "execution_count": 236,
   "id": "28d19c6f-8462-43cf-959b-fab5225ada59",
   "metadata": {},
   "outputs": [],
   "source": [
    "s=\" too good to be true\""
   ]
  },
  {
   "cell_type": "code",
   "execution_count": 237,
   "id": "57e5a25c-9d83-45eb-a19c-b7d38a69dc5b",
   "metadata": {},
   "outputs": [
    {
     "name": "stdout",
     "output_type": "stream",
     "text": [
      "13\n"
     ]
    }
   ],
   "source": [
    "#function to count 1st occurence of word\n",
    "print(s.find('b'))"
   ]
  },
  {
   "cell_type": "code",
   "execution_count": 189,
   "id": "58990866-0df3-44b5-9641-d45136b6912f",
   "metadata": {},
   "outputs": [],
   "source": [
    "#13) last occurence of a word in string\n",
    "\n"
   ]
  },
  {
   "cell_type": "code",
   "execution_count": 238,
   "id": "e364ffa9-0249-48bf-bfeb-4a7aba486896",
   "metadata": {},
   "outputs": [],
   "source": [
    "s=str(input)"
   ]
  },
  {
   "cell_type": "code",
   "execution_count": 239,
   "id": "7180d54d-4b18-4e05-9426-5a6340f4b6b6",
   "metadata": {},
   "outputs": [],
   "source": [
    "s=(\"climate change needa attention\")"
   ]
  },
  {
   "cell_type": "code",
   "execution_count": 240,
   "id": "f5d2a993-71a7-45ba-a3f2-96151adb340a",
   "metadata": {},
   "outputs": [
    {
     "name": "stdout",
     "output_type": "stream",
     "text": [
      "29\n"
     ]
    }
   ],
   "source": [
    "#function to count last occurence of a word\n",
    "print(s.rfind('n'))"
   ]
  },
  {
   "cell_type": "code",
   "execution_count": 193,
   "id": "7d6aabbb-fdad-4dff-bd78-c3ca8447847e",
   "metadata": {},
   "outputs": [],
   "source": [
    "#14)to split string into list of words\n",
    "\n"
   ]
  },
  {
   "cell_type": "code",
   "execution_count": 199,
   "id": "6239cfe0-81c6-48fa-8382-4ae06764d242",
   "metadata": {},
   "outputs": [],
   "source": [
    "s=str(input)"
   ]
  },
  {
   "cell_type": "code",
   "execution_count": 200,
   "id": "8946a840-7924-419c-8029-f8cbd0dd8356",
   "metadata": {},
   "outputs": [],
   "source": [
    "s=\"this is a beautiful country\""
   ]
  },
  {
   "cell_type": "code",
   "execution_count": 201,
   "id": "853dd95b-f899-4eea-abb5-e8859612db37",
   "metadata": {},
   "outputs": [
    {
     "name": "stdout",
     "output_type": "stream",
     "text": [
      "['this', 'is', 'a', 'beautiful', 'country']\n"
     ]
    }
   ],
   "source": [
    "#function to split string into words\n",
    "print(s.split())"
   ]
  },
  {
   "cell_type": "code",
   "execution_count": 223,
   "id": "53aa1a00-c86f-40d8-9cd8-a1e98f98a039",
   "metadata": {},
   "outputs": [],
   "source": [
    "#15)join a list of words into string\n",
    "\n"
   ]
  },
  {
   "cell_type": "code",
   "execution_count": 272,
   "id": "6642d661-c82e-4030-9081-e43e5079f818",
   "metadata": {},
   "outputs": [],
   "source": [
    "s=str(input)"
   ]
  },
  {
   "cell_type": "code",
   "execution_count": 273,
   "id": "5485c482-f221-446f-b4b9-97b17a286b7c",
   "metadata": {},
   "outputs": [],
   "source": [
    "s=  'g''o''o''d'"
   ]
  },
  {
   "cell_type": "code",
   "execution_count": 275,
   "id": "5abd246d-6c60-4f31-a1a2-207f06071950",
   "metadata": {},
   "outputs": [
    {
     "name": "stdout",
     "output_type": "stream",
     "text": [
      "ggoodogoodogoodd\n"
     ]
    }
   ],
   "source": [
    "#funtion to join a string\n",
    "print(s.join(s))"
   ]
  },
  {
   "cell_type": "code",
   "execution_count": 262,
   "id": "e08d6140-fcae-4889-9694-9490ef10ef93",
   "metadata": {},
   "outputs": [],
   "source": [
    "#16)to convert spaces to underscores\n",
    "\n"
   ]
  },
  {
   "cell_type": "code",
   "execution_count": 263,
   "id": "c4c9423f-f77a-4dc1-a889-ae25c37110f2",
   "metadata": {},
   "outputs": [],
   "source": [
    "s=str(input)"
   ]
  },
  {
   "cell_type": "code",
   "execution_count": 264,
   "id": "e60bdbf0-23f8-4a7f-8392-b3ae78f04a4c",
   "metadata": {},
   "outputs": [],
   "source": [
    "s=\" g20 summit was held in india\""
   ]
  },
  {
   "cell_type": "code",
   "execution_count": 265,
   "id": "6e27de8d-a467-4bd0-b5b0-3bddc505b350",
   "metadata": {},
   "outputs": [
    {
     "name": "stdout",
     "output_type": "stream",
     "text": [
      "_g20_summit_was_held_in_india\n"
     ]
    }
   ],
   "source": [
    "function to replace space with underscore\n",
    "print(s.replace(\" \",\"_\"))"
   ]
  },
  {
   "cell_type": "code",
   "execution_count": 276,
   "id": "12e1ea94-3227-4f73-b12a-d15b3a166c46",
   "metadata": {},
   "outputs": [],
   "source": [
    "#17)to check if a string starts with a word or phrase\n",
    "\n"
   ]
  },
  {
   "cell_type": "code",
   "execution_count": 304,
   "id": "173ecec0-f023-4f5a-8171-6ed03deee646",
   "metadata": {},
   "outputs": [],
   "source": [
    "s=str(input)"
   ]
  },
  {
   "cell_type": "code",
   "execution_count": 305,
   "id": "308ea596-f45c-4ab4-beb6-30690441ce48",
   "metadata": {},
   "outputs": [],
   "source": [
    "s=\"this is not good food\""
   ]
  },
  {
   "cell_type": "code",
   "execution_count": 306,
   "id": "e5291298-2922-45a4-8578-f535978f5865",
   "metadata": {},
   "outputs": [
    {
     "name": "stdout",
     "output_type": "stream",
     "text": [
      "the string starts with the word\n"
     ]
    }
   ],
   "source": [
    "if s[0]=='t':\n",
    "    print(\"the string starts with the word\")\n",
    "else:\n",
    "    print(\"the string does not starts with the word\")"
   ]
  },
  {
   "cell_type": "code",
   "execution_count": 307,
   "id": "d98b6716-6a69-4295-a668-903b32ee6c7c",
   "metadata": {},
   "outputs": [
    {
     "name": "stdout",
     "output_type": "stream",
     "text": [
      "the string does not starts with the word\n"
     ]
    }
   ],
   "source": [
    "if s[0]=='g':\n",
    "    print(\"the string starts with the word\")\n",
    "else:\n",
    "    print(\"the string does not starts with the word\")"
   ]
  },
  {
   "cell_type": "code",
   "execution_count": 308,
   "id": "a4286978-6881-4dc6-9e57-548122b3cc78",
   "metadata": {},
   "outputs": [],
   "source": [
    "#18)to check if a string ends with a phrase or word\n",
    "\n"
   ]
  },
  {
   "cell_type": "code",
   "execution_count": 288,
   "id": "d5edf4fd-8827-4b0d-b0c6-77ec9a367b96",
   "metadata": {},
   "outputs": [],
   "source": [
    "s=str(input)"
   ]
  },
  {
   "cell_type": "code",
   "execution_count": 289,
   "id": "be09a99c-2227-4f0a-a6ed-7c0cc24649bc",
   "metadata": {},
   "outputs": [],
   "source": [
    "s= \"are you crazy\""
   ]
  },
  {
   "cell_type": "code",
   "execution_count": 291,
   "id": "583e06a2-9df7-48aa-848d-cd80a1391dcb",
   "metadata": {},
   "outputs": [
    {
     "name": "stdout",
     "output_type": "stream",
     "text": [
      "the string ends with the word\n"
     ]
    }
   ],
   "source": [
    "if s[12]=='y':\n",
    "    print(\"the string ends with the word\")\n",
    "else:\n",
    "    print(\"the string does not end with the word\")"
   ]
  },
  {
   "cell_type": "code",
   "execution_count": 292,
   "id": "f5f8cf25-7bea-43aa-b343-e7ff52e01ceb",
   "metadata": {},
   "outputs": [],
   "source": [
    "#19)to convert string to titlecase\n",
    "\n"
   ]
  },
  {
   "cell_type": "code",
   "execution_count": 293,
   "id": "816d60da-2265-4d38-bfd0-c9c997642671",
   "metadata": {},
   "outputs": [],
   "source": [
    "s=str(input)"
   ]
  },
  {
   "cell_type": "code",
   "execution_count": 295,
   "id": "dc0dbede-6f2e-4a0c-99c2-d7fe529eca33",
   "metadata": {},
   "outputs": [],
   "source": [
    "s=\"are you going to the party\""
   ]
  },
  {
   "cell_type": "code",
   "execution_count": 296,
   "id": "e966d691-aa3e-4e6e-b143-198ad1aec9aa",
   "metadata": {},
   "outputs": [
    {
     "name": "stdout",
     "output_type": "stream",
     "text": [
      "Are You Going To The Party\n"
     ]
    }
   ],
   "source": [
    "#function to convert to title case\n",
    "print(s.title())"
   ]
  },
  {
   "cell_type": "code",
   "execution_count": 311,
   "id": "7aba07f6-c1ba-459d-9ec4-a04ce52ff30a",
   "metadata": {},
   "outputs": [],
   "source": [
    "#20)to find the longest word in the string\n",
    "\n"
   ]
  },
  {
   "cell_type": "code",
   "execution_count": 17,
   "id": "d6e184ee-9c4b-47bc-b4b8-7838a5ef585d",
   "metadata": {},
   "outputs": [],
   "source": [
    "s=str(input)"
   ]
  },
  {
   "cell_type": "code",
   "execution_count": 18,
   "id": "7f3ffabb-fedc-4f10-9335-acb2eb368a7e",
   "metadata": {},
   "outputs": [],
   "source": [
    "s=\"mississipi is in america\""
   ]
  },
  {
   "cell_type": "code",
   "execution_count": 19,
   "id": "5d6c0721-1cb6-4ba5-bc07-34cc698363ec",
   "metadata": {},
   "outputs": [],
   "source": [
    "list= s.split()"
   ]
  },
  {
   "cell_type": "code",
   "execution_count": 20,
   "id": "0b7bcd6c-570a-4a27-9992-c0761b6c6133",
   "metadata": {},
   "outputs": [
    {
     "data": {
      "text/plain": [
       "['mississipi', 'is', 'in', 'america']"
      ]
     },
     "execution_count": 20,
     "metadata": {},
     "output_type": "execute_result"
    }
   ],
   "source": [
    "list"
   ]
  },
  {
   "cell_type": "code",
   "execution_count": 10,
   "id": "393d170b-d304-4136-b5ed-6527a8f21c37",
   "metadata": {},
   "outputs": [
    {
     "name": "stdout",
     "output_type": "stream",
     "text": [
      "mississipi\n"
     ]
    }
   ],
   "source": [
    "#function to find longest word in string\n",
    "print(max(list, key=len))"
   ]
  },
  {
   "cell_type": "code",
   "execution_count": 11,
   "id": "9f0727a9-6423-4ab1-8e9f-23108a988a86",
   "metadata": {},
   "outputs": [],
   "source": [
    "#21) to find the shortest word in the string\n",
    "\n"
   ]
  },
  {
   "cell_type": "code",
   "execution_count": 21,
   "id": "53ad9425-1171-44af-a3c2-d6b96436cd4c",
   "metadata": {},
   "outputs": [],
   "source": [
    "s=str(input)"
   ]
  },
  {
   "cell_type": "code",
   "execution_count": 22,
   "id": "37c54259-6d3e-4bbb-b825-8f45f06e9bb7",
   "metadata": {},
   "outputs": [],
   "source": [
    "s=\"i am fine\""
   ]
  },
  {
   "cell_type": "code",
   "execution_count": 23,
   "id": "0bbd77f5-c925-4929-be6a-400f2ba90a41",
   "metadata": {},
   "outputs": [],
   "source": [
    "list=s.split()"
   ]
  },
  {
   "cell_type": "code",
   "execution_count": 24,
   "id": "95b4589a-5e3f-4707-b290-74eacd061ac7",
   "metadata": {},
   "outputs": [
    {
     "data": {
      "text/plain": [
       "['i', 'am', 'fine']"
      ]
     },
     "execution_count": 24,
     "metadata": {},
     "output_type": "execute_result"
    }
   ],
   "source": [
    "list"
   ]
  },
  {
   "cell_type": "code",
   "execution_count": 25,
   "id": "268d1bbd-eeb4-4626-89fd-6e739b85872f",
   "metadata": {},
   "outputs": [
    {
     "name": "stdout",
     "output_type": "stream",
     "text": [
      "i\n"
     ]
    }
   ],
   "source": [
    "#function to find the shortest word\n",
    "print(min(list, key=len))"
   ]
  },
  {
   "cell_type": "code",
   "execution_count": 28,
   "id": "d24ba3e0-f4b8-4f93-96dd-1a0be1c82c4f",
   "metadata": {},
   "outputs": [],
   "source": [
    "#22) reverse the order of words\n",
    "\n"
   ]
  },
  {
   "cell_type": "code",
   "execution_count": 9,
   "id": "db6c3195-141d-4479-9841-1a601ee94914",
   "metadata": {},
   "outputs": [],
   "source": [
    "s=str(input)"
   ]
  },
  {
   "cell_type": "code",
   "execution_count": 10,
   "id": "63f82be3-70db-451f-b789-3f24ab139baa",
   "metadata": {},
   "outputs": [],
   "source": [
    "s=\"i am strong girl\""
   ]
  },
  {
   "cell_type": "code",
   "execution_count": 11,
   "id": "496a70a6-22a1-45c5-ad18-036ea62df619",
   "metadata": {},
   "outputs": [],
   "source": [
    "x=s.split()"
   ]
  },
  {
   "cell_type": "code",
   "execution_count": 12,
   "id": "b0d3f24e-8492-47f0-b29a-1474e4d8da3a",
   "metadata": {},
   "outputs": [
    {
     "data": {
      "text/plain": [
       "['i', 'am', 'strong', 'girl']"
      ]
     },
     "execution_count": 12,
     "metadata": {},
     "output_type": "execute_result"
    }
   ],
   "source": [
    "x"
   ]
  },
  {
   "cell_type": "code",
   "execution_count": 13,
   "id": "cf5ff862-96a9-4a41-9877-1bde096cfb91",
   "metadata": {},
   "outputs": [],
   "source": [
    "#function to reverse the words\n",
    "x.reverse()"
   ]
  },
  {
   "cell_type": "code",
   "execution_count": 14,
   "id": "791bac54-0e2f-4209-b8db-58f00a5c8978",
   "metadata": {},
   "outputs": [
    {
     "name": "stdout",
     "output_type": "stream",
     "text": [
      "girl strong am i\n"
     ]
    }
   ],
   "source": [
    "print(\" \".join(x))"
   ]
  },
  {
   "cell_type": "code",
   "execution_count": 110,
   "id": "f0407672-d54c-40d7-a731-a58cb571b15e",
   "metadata": {},
   "outputs": [],
   "source": [
    "#23) check if string is alphanumeric\n",
    "\n"
   ]
  },
  {
   "cell_type": "code",
   "execution_count": 111,
   "id": "61f15b50-53cb-40eb-a03c-5e7978b1767f",
   "metadata": {},
   "outputs": [],
   "source": [
    "s=str(input)"
   ]
  },
  {
   "cell_type": "code",
   "execution_count": 112,
   "id": "96127fd5-9878-4423-815d-4856d3e2106d",
   "metadata": {},
   "outputs": [],
   "source": [
    "s=\"123rahul\""
   ]
  },
  {
   "cell_type": "code",
   "execution_count": 115,
   "id": "730b5a70-aefd-4223-8b7a-a10f4076e4ab",
   "metadata": {},
   "outputs": [
    {
     "name": "stdout",
     "output_type": "stream",
     "text": [
      "is the above string alphanumeric? True\n"
     ]
    }
   ],
   "source": [
    "print(\"is the above string alphanumeric?\",s.isalnum())"
   ]
  },
  {
   "cell_type": "code",
   "execution_count": 39,
   "id": "5609fb26-f2b9-44b5-a2b2-caa83e0a8fd4",
   "metadata": {},
   "outputs": [],
   "source": [
    "#24) to extract all digits from string\n",
    "\n"
   ]
  },
  {
   "cell_type": "code",
   "execution_count": 49,
   "id": "bbe4f78c-4982-4d65-b6f4-efddd85ec77c",
   "metadata": {},
   "outputs": [],
   "source": [
    "s=str(input)"
   ]
  },
  {
   "cell_type": "code",
   "execution_count": 50,
   "id": "8860fe01-94be-49bf-9f3e-3d21e621d292",
   "metadata": {},
   "outputs": [],
   "source": [
    "s=\"there are 50 students in class\""
   ]
  },
  {
   "cell_type": "code",
   "execution_count": 51,
   "id": "181be9cb-3767-4794-8121-a1c80c951a6a",
   "metadata": {},
   "outputs": [],
   "source": [
    "#function to first split the string and then extract digits\n",
    "result= [int (i) for i in s.split() if i.isdigit()]"
   ]
  },
  {
   "cell_type": "code",
   "execution_count": 52,
   "id": "ca635254-7dff-4449-8ac1-45a8295cea07",
   "metadata": {},
   "outputs": [
    {
     "name": "stdout",
     "output_type": "stream",
     "text": [
      "the digits in the above string are: [50]\n"
     ]
    }
   ],
   "source": [
    "print(\"the digits in the above string are:\",(result))"
   ]
  },
  {
   "cell_type": "code",
   "execution_count": 53,
   "id": "0d396e6c-d405-439b-8b57-08c4f889330f",
   "metadata": {},
   "outputs": [],
   "source": [
    "#25) to extract all alphabets\n",
    "\n"
   ]
  },
  {
   "cell_type": "code",
   "execution_count": 54,
   "id": "3c69e78c-e2c3-4335-982f-7c261284931f",
   "metadata": {},
   "outputs": [],
   "source": [
    "s=str(input)"
   ]
  },
  {
   "cell_type": "code",
   "execution_count": 1,
   "id": "83ab458c-a511-47ab-9ea0-75122bcb5d9c",
   "metadata": {},
   "outputs": [],
   "source": [
    "s=\"123urgftdv$%^\""
   ]
  },
  {
   "cell_type": "code",
   "execution_count": 3,
   "id": "6baa2f42-5327-4386-bf8a-7f8b2050ee56",
   "metadata": {},
   "outputs": [],
   "source": [
    "res=\"\""
   ]
  },
  {
   "cell_type": "code",
   "execution_count": 5,
   "id": "c26b80cc-bfe5-4db7-a1a3-1299103e19dc",
   "metadata": {},
   "outputs": [],
   "source": [
    "#to find characters in string\n",
    "for i in s:\n",
    "    if i.isalpha():\n",
    "        res=\"\".join([res,i])"
   ]
  },
  {
   "cell_type": "code",
   "execution_count": 6,
   "id": "4bf33226-9467-4adb-a39d-0ebe6d6f6629",
   "metadata": {},
   "outputs": [
    {
     "name": "stdout",
     "output_type": "stream",
     "text": [
      "the characters in the string are: urgftdv\n"
     ]
    }
   ],
   "source": [
    "print(\"the characters in the string are:\", res)"
   ]
  },
  {
   "cell_type": "code",
   "execution_count": 7,
   "id": "4f9f3e96-a1f5-444c-bbd1-7abeffcdc0d3",
   "metadata": {},
   "outputs": [],
   "source": [
    "#26) to count the number of uppercase in a string\n",
    "\n"
   ]
  },
  {
   "cell_type": "code",
   "execution_count": 27,
   "id": "2365d8d3-4711-4aa1-9106-1b54ca74b73a",
   "metadata": {},
   "outputs": [],
   "source": [
    "s=str(input)"
   ]
  },
  {
   "cell_type": "code",
   "execution_count": 28,
   "id": "c81b47ad-b93c-41a3-bcec-f24911e06ff7",
   "metadata": {},
   "outputs": [],
   "source": [
    "s=\"ARE YOU coming to the party\""
   ]
  },
  {
   "cell_type": "code",
   "execution_count": 33,
   "id": "d862e9d6-8ac1-4e20-bdc4-f413086fe894",
   "metadata": {},
   "outputs": [],
   "source": [
    "upper=0"
   ]
  },
  {
   "cell_type": "code",
   "execution_count": 36,
   "id": "0d007bd5-6692-4aa5-80f1-e59a0e40ce8f",
   "metadata": {},
   "outputs": [],
   "source": [
    "#to count uppercase letters\n",
    "for i in s:\n",
    "    if (i.isupper()):\n",
    "       upper=upper+1"
   ]
  },
  {
   "cell_type": "code",
   "execution_count": 38,
   "id": "27731045-d2a1-4557-855b-1002fe911e0a",
   "metadata": {},
   "outputs": [
    {
     "name": "stdout",
     "output_type": "stream",
     "text": [
      "the number of uppercase letters are: 6\n"
     ]
    }
   ],
   "source": [
    "print(\"the number of uppercase letters are:\",upper)"
   ]
  },
  {
   "cell_type": "code",
   "execution_count": 39,
   "id": "3b7e9df9-de41-4e35-9c9a-e4a23c947f75",
   "metadata": {},
   "outputs": [],
   "source": [
    "#27) to count the lowercase in a string\n",
    "\n"
   ]
  },
  {
   "cell_type": "code",
   "execution_count": 40,
   "id": "2a6ea9c5-e4ec-418d-80bf-add69a185cd6",
   "metadata": {},
   "outputs": [],
   "source": [
    "s=str(input)\n",
    "     "
   ]
  },
  {
   "cell_type": "code",
   "execution_count": 43,
   "id": "7e5fa560-9543-4177-b25f-6014e4cf95ca",
   "metadata": {},
   "outputs": [],
   "source": [
    "s=\" are you coming TO THE PARTY\""
   ]
  },
  {
   "cell_type": "code",
   "execution_count": 44,
   "id": "9223f06c-e6d9-4533-b7d9-24200eccba57",
   "metadata": {},
   "outputs": [],
   "source": [
    "lower=0"
   ]
  },
  {
   "cell_type": "code",
   "execution_count": 45,
   "id": "9d124ef0-2d6e-485f-b2e1-b28bd2e8f3e0",
   "metadata": {},
   "outputs": [],
   "source": [
    "for i in s:\n",
    "    if (i.islower()):\n",
    "        lower=lower+1"
   ]
  },
  {
   "cell_type": "code",
   "execution_count": 46,
   "id": "0e35a3ef-3ac8-4c83-a568-534d6375a3c7",
   "metadata": {},
   "outputs": [
    {
     "name": "stdout",
     "output_type": "stream",
     "text": [
      "the number of lowercase letters are: 12\n"
     ]
    }
   ],
   "source": [
    "print(\"the number of lowercase letters are:\",lower)"
   ]
  },
  {
   "cell_type": "code",
   "execution_count": 47,
   "id": "9f9ebd37-1983-4c99-a353-907fc1c96e27",
   "metadata": {},
   "outputs": [],
   "source": [
    "#28) swap the case of each letter"
   ]
  },
  {
   "cell_type": "code",
   "execution_count": 48,
   "id": "0448b70a-a838-402f-8d93-742cd4f6010f",
   "metadata": {},
   "outputs": [],
   "source": [
    "s=str(input)"
   ]
  },
  {
   "cell_type": "code",
   "execution_count": 49,
   "id": "a8668010-2082-4598-adc5-f78afbbee6ae",
   "metadata": {},
   "outputs": [],
   "source": [
    "s=\" VerY GooD\""
   ]
  },
  {
   "cell_type": "code",
   "execution_count": 50,
   "id": "a2901af0-f16c-48b1-9c86-2b91eb520686",
   "metadata": {},
   "outputs": [
    {
     "name": "stdout",
     "output_type": "stream",
     "text": [
      " vERy gOOd\n"
     ]
    }
   ],
   "source": [
    "#function to swap case\n",
    "print(s.swapcase())"
   ]
  },
  {
   "cell_type": "code",
   "execution_count": 51,
   "id": "8c55e907-bb70-46af-813c-070fad8a5f34",
   "metadata": {},
   "outputs": [],
   "source": [
    "#29) remove a specific word from string\n",
    "\n"
   ]
  },
  {
   "cell_type": "code",
   "execution_count": 52,
   "id": "28371bcb-b09f-443a-b83c-2a240281be22",
   "metadata": {},
   "outputs": [],
   "source": [
    "s=str(input)"
   ]
  },
  {
   "cell_type": "code",
   "execution_count": 53,
   "id": "ca9b70a8-e352-42b7-9336-e620d479c930",
   "metadata": {},
   "outputs": [],
   "source": [
    "s=\"is your name alex\""
   ]
  },
  {
   "cell_type": "code",
   "execution_count": 56,
   "id": "93f7a901-0106-4c9c-878b-b86dd5489ba9",
   "metadata": {},
   "outputs": [
    {
     "name": "stdout",
     "output_type": "stream",
     "text": [
      "is your name \n"
     ]
    }
   ],
   "source": [
    "#function to replace a specific word\n",
    "print(s.replace('alex',''))"
   ]
  },
  {
   "cell_type": "code",
   "execution_count": 8,
   "id": "e2963fe9-1554-42ec-903a-cbcdee90f6be",
   "metadata": {},
   "outputs": [],
   "source": [
    "#31) to extract username from email\n",
    "\n"
   ]
  },
  {
   "cell_type": "code",
   "execution_count": 9,
   "id": "e603019b-66fb-40f5-bfa8-afb1e245d9bb",
   "metadata": {},
   "outputs": [],
   "source": [
    "s=str(input)"
   ]
  },
  {
   "cell_type": "code",
   "execution_count": 10,
   "id": "a66c7ea7-030b-4c0b-ab4c-7b606ae5f048",
   "metadata": {},
   "outputs": [],
   "source": [
    "s=\"sunitachoudhary5@gmail.com\""
   ]
  },
  {
   "cell_type": "code",
   "execution_count": 12,
   "id": "37426e0c-b5c9-4937-8ab6-ac0d96650c59",
   "metadata": {},
   "outputs": [
    {
     "name": "stdout",
     "output_type": "stream",
     "text": [
      "the username is: sunitachoudhary5\n"
     ]
    }
   ],
   "source": [
    "#to extract username at @ and take first part\n",
    "print(\"the username is:\",s.split('@')[0])"
   ]
  },
  {
   "cell_type": "code",
   "execution_count": 13,
   "id": "f008c71b-2543-41b8-a164-2a7bfdd22c60",
   "metadata": {},
   "outputs": [],
   "source": [
    "#32) extract the domain name\n",
    "\n"
   ]
  },
  {
   "cell_type": "code",
   "execution_count": 14,
   "id": "e7334991-4aba-4032-af32-0329af576d10",
   "metadata": {},
   "outputs": [],
   "source": [
    "s=str(input)"
   ]
  },
  {
   "cell_type": "code",
   "execution_count": 15,
   "id": "f882f8b9-eb93-464e-9aa8-f158bdc21939",
   "metadata": {},
   "outputs": [],
   "source": [
    "s=\"sunitachoudhary5@gmail.com\""
   ]
  },
  {
   "cell_type": "code",
   "execution_count": 19,
   "id": "79f080ea-f064-4d2d-8ba1-77af8da09a2b",
   "metadata": {},
   "outputs": [
    {
     "name": "stdout",
     "output_type": "stream",
     "text": [
      "the domain name is: gmail.com\n"
     ]
    }
   ],
   "source": [
    "#function to split at @ and extract the domain name\n",
    "print(\"the domain name is:\", s.split('@')[1])"
   ]
  },
  {
   "cell_type": "code",
   "execution_count": 20,
   "id": "224bcf2f-97ec-40a0-8c1f-088b60fce1c1",
   "metadata": {},
   "outputs": [],
   "source": [
    "#33) replace multiple spaces with single space\n",
    "\n"
   ]
  },
  {
   "cell_type": "code",
   "execution_count": 22,
   "id": "614fd999-adb6-438e-8fda-9886012c425c",
   "metadata": {},
   "outputs": [],
   "source": [
    "s=str(input)"
   ]
  },
  {
   "cell_type": "code",
   "execution_count": 23,
   "id": "f3620051-cbf1-455d-b9e6-084835d26eb3",
   "metadata": {},
   "outputs": [],
   "source": [
    "s=\" we  should  maintain  personal  hygeine\""
   ]
  },
  {
   "cell_type": "code",
   "execution_count": 25,
   "id": "1f080f57-a4b5-4503-b621-2609bffc2128",
   "metadata": {},
   "outputs": [
    {
     "name": "stdout",
     "output_type": "stream",
     "text": [
      " the final string with single spaces is:  we should maintain personal hygeine\n"
     ]
    }
   ],
   "source": [
    "print(\" the final string with single spaces is:\", s.replace(\"  \", \" \"))"
   ]
  },
  {
   "cell_type": "code",
   "execution_count": 26,
   "id": "b5bc68e1-e504-43c6-8a8c-8f389624a7c6",
   "metadata": {},
   "outputs": [],
   "source": [
    "# 34) to check if the string is valid url\n",
    "\n"
   ]
  },
  {
   "cell_type": "code",
   "execution_count": 124,
   "id": "cf83b6f6-8093-45b0-bb2a-6622d7d47bff",
   "metadata": {},
   "outputs": [],
   "source": [
    "s=str(input)"
   ]
  },
  {
   "cell_type": "code",
   "execution_count": 125,
   "id": "a04d2ed7-702c-4ba1-a09d-e8d7e71d76e3",
   "metadata": {},
   "outputs": [],
   "source": [
    "s= \"https://www.yahoo.com\""
   ]
  },
  {
   "cell_type": "code",
   "execution_count": 126,
   "id": "8793cf23-d641-46be-841a-b7969f265628",
   "metadata": {},
   "outputs": [],
   "source": [
    "from urllib.parse import urlparse"
   ]
  },
  {
   "cell_type": "code",
   "execution_count": 127,
   "id": "0f364d23-174d-440c-91d1-9e193acea556",
   "metadata": {},
   "outputs": [],
   "source": [
    "# function to check valid url\n",
    "def is_valid_url(s):\n",
    "   try:            \n",
    "        result= urlparse(s)\n",
    "        return all([result.scheme, result.netlock])\n",
    "   except:\n",
    "        return false"
   ]
  },
  {
   "cell_type": "code",
   "execution_count": 128,
   "id": "1f66b606-9cad-454f-8aa4-b518977fff76",
   "metadata": {},
   "outputs": [
    {
     "data": {
      "text/plain": [
       "ParseResult(scheme='https', netloc='www.yahoo.com', path='', params='', query='', fragment='')"
      ]
     },
     "execution_count": 128,
     "metadata": {},
     "output_type": "execute_result"
    }
   ],
   "source": [
    "result"
   ]
  },
  {
   "cell_type": "code",
   "execution_count": 129,
   "id": "94a8f65d-1e82-47bd-9bd0-70d345015ab8",
   "metadata": {},
   "outputs": [],
   "source": [
    "#35) extract protocol from url\n",
    "\n"
   ]
  },
  {
   "cell_type": "code",
   "execution_count": 137,
   "id": "83c91812-74bd-4a43-b101-85eb9c1d1a94",
   "metadata": {},
   "outputs": [],
   "source": [
    "s=str(input)"
   ]
  },
  {
   "cell_type": "code",
   "execution_count": 138,
   "id": "94478768-3e5f-4b3d-91b6-dc85f3f0be69",
   "metadata": {},
   "outputs": [],
   "source": [
    "s='<a href=\"http://www.google.com\">'"
   ]
  },
  {
   "cell_type": "code",
   "execution_count": 139,
   "id": "7740d8ee-7a4d-4722-94c9-d3514565b145",
   "metadata": {},
   "outputs": [],
   "source": [
    "#to extract protocol from index number\n",
    "url=s[9:-2:1]"
   ]
  },
  {
   "cell_type": "code",
   "execution_count": 140,
   "id": "02b1af29-d8eb-4e0d-9905-9ac7c6156b5f",
   "metadata": {},
   "outputs": [
    {
     "name": "stdout",
     "output_type": "stream",
     "text": [
      "< a href= \"http://www.google.com\">\n"
     ]
    }
   ],
   "source": [
    "print(s)"
   ]
  },
  {
   "cell_type": "code",
   "execution_count": 141,
   "id": "c296787d-65e7-4b15-9848-7fb58f850d65",
   "metadata": {},
   "outputs": [
    {
     "name": "stdout",
     "output_type": "stream",
     "text": [
      " \"http://www.google.com\n"
     ]
    }
   ],
   "source": [
    "print(url)"
   ]
  },
  {
   "cell_type": "code",
   "execution_count": 142,
   "id": "6ddf16f6-1ac7-408a-8cb9-c0a8928ae9d2",
   "metadata": {},
   "outputs": [],
   "source": [
    "#36 to find frequency of each character\n",
    "\n"
   ]
  },
  {
   "cell_type": "code",
   "execution_count": 159,
   "id": "30c85d8f-3755-4806-a802-2a209857d091",
   "metadata": {},
   "outputs": [],
   "source": [
    "s=str(input)"
   ]
  },
  {
   "cell_type": "code",
   "execution_count": 160,
   "id": "75b85330-1b11-4709-af65-97a3867ba744",
   "metadata": {},
   "outputs": [],
   "source": [
    "s=\"honoluluisland\""
   ]
  },
  {
   "cell_type": "code",
   "execution_count": 161,
   "id": "794624bb-8a7e-498f-9033-3cc59ee73e65",
   "metadata": {},
   "outputs": [],
   "source": [
    "#create dictionary to store frequencies\n",
    "freq={}"
   ]
  },
  {
   "cell_type": "code",
   "execution_count": 162,
   "id": "20b43350-871a-467c-bded-0b5d6c0c936f",
   "metadata": {},
   "outputs": [],
   "source": [
    "\n",
    "for i in s:\n",
    "    if i in freq:\n",
    "        freq[i]=freq[i]+1  #increment frequency if character in dictionary\n",
    "    else:\n",
    "        freq[i]=1          #initialize the count to 1 if not in dictionary"
   ]
  },
  {
   "cell_type": "code",
   "execution_count": 163,
   "id": "91201a2b-a625-4c5f-8522-c0f611532fde",
   "metadata": {},
   "outputs": [
    {
     "name": "stdout",
     "output_type": "stream",
     "text": [
      "the frequency of all characters in string is:{'h': 1, 'o': 2, 'n': 2, 'l': 3, 'u': 2, 'i': 1, 's': 1, 'a': 1, 'd': 1}\n"
     ]
    }
   ],
   "source": [
    "print(\"the frequency of all characters in string is:\"+ str(freq))"
   ]
  },
  {
   "cell_type": "code",
   "execution_count": 164,
   "id": "28593c17-d0c1-4d5b-bd41-4c643b4ecc1a",
   "metadata": {},
   "outputs": [],
   "source": [
    "#37) to remove all punctuation from string\n",
    "\n"
   ]
  },
  {
   "cell_type": "code",
   "execution_count": 172,
   "id": "534c5e44-cc09-487d-81a6-2a1dbe39b9f5",
   "metadata": {},
   "outputs": [],
   "source": [
    "import string"
   ]
  },
  {
   "cell_type": "code",
   "execution_count": 173,
   "id": "49383f3b-0bdb-4066-a767-55561247d34f",
   "metadata": {},
   "outputs": [],
   "source": [
    "s=str(input)"
   ]
  },
  {
   "cell_type": "code",
   "execution_count": 174,
   "id": "4c404b2d-d50a-4c77-9bbe-1272fd6d1582",
   "metadata": {},
   "outputs": [],
   "source": [
    "s=\"hi!how are you?\""
   ]
  },
  {
   "cell_type": "code",
   "execution_count": 175,
   "id": "9df512d4-89c6-4e24-82a5-3bd933c6cf15",
   "metadata": {},
   "outputs": [],
   "source": [
    "#string function to remove all punctuation\n",
    "s=s.translate(s.maketrans(\" \",\" \",string.punctuation))"
   ]
  },
  {
   "cell_type": "code",
   "execution_count": 176,
   "id": "b146b0f0-60cb-497a-8218-73e8fac4b9e4",
   "metadata": {},
   "outputs": [
    {
     "name": "stdout",
     "output_type": "stream",
     "text": [
      "hihow are you\n"
     ]
    }
   ],
   "source": [
    "print(s)"
   ]
  },
  {
   "cell_type": "code",
   "execution_count": 177,
   "id": "c39b2a82-2865-4b34-b4bb-c9530588b515",
   "metadata": {},
   "outputs": [],
   "source": [
    "#38) to check if string contains only digits\n",
    "\n"
   ]
  },
  {
   "cell_type": "code",
   "execution_count": 178,
   "id": "7ace08a4-1b4a-47b0-9479-adac37c11be4",
   "metadata": {},
   "outputs": [],
   "source": [
    "s=str(input)"
   ]
  },
  {
   "cell_type": "code",
   "execution_count": 179,
   "id": "4f61f240-a11c-4e9b-a6c8-f31b00fc279a",
   "metadata": {},
   "outputs": [],
   "source": [
    "s=\"123digitalsolutions\""
   ]
  },
  {
   "cell_type": "code",
   "execution_count": 181,
   "id": "981eff1e-afed-45ec-9906-f027fefe769c",
   "metadata": {},
   "outputs": [],
   "source": [
    "#function to check all digits\n",
    "w=s.isdigit()"
   ]
  },
  {
   "cell_type": "code",
   "execution_count": 182,
   "id": "5b43d479-0a7f-42db-b75e-a8f8bc1d96e7",
   "metadata": {},
   "outputs": [
    {
     "name": "stdout",
     "output_type": "stream",
     "text": [
      "False\n"
     ]
    }
   ],
   "source": [
    "print(w)"
   ]
  },
  {
   "cell_type": "code",
   "execution_count": 183,
   "id": "adcf9ecb-f203-4aae-b000-eb7858767982",
   "metadata": {},
   "outputs": [],
   "source": [
    "#39) to check if string contains only alphabets\n",
    "\n"
   ]
  },
  {
   "cell_type": "code",
   "execution_count": 194,
   "id": "8202ce8f-000c-4e2e-be6c-3fe840234786",
   "metadata": {},
   "outputs": [],
   "source": [
    "s=str(input)"
   ]
  },
  {
   "cell_type": "code",
   "execution_count": 195,
   "id": "e31d88b5-e615-4c84-9df6-d7950ea6d901",
   "metadata": {},
   "outputs": [],
   "source": [
    "s=\"exercisedaily\""
   ]
  },
  {
   "cell_type": "code",
   "execution_count": 196,
   "id": "dd6997af-79fb-4cd9-b88d-2cd7f4ae8de3",
   "metadata": {},
   "outputs": [],
   "source": [
    "#function to check all alphabets\n",
    "a=s.isalpha()"
   ]
  },
  {
   "cell_type": "code",
   "execution_count": 198,
   "id": "183a9944-4f39-4fbf-81b9-0aa085e416bc",
   "metadata": {},
   "outputs": [
    {
     "name": "stdout",
     "output_type": "stream",
     "text": [
      "True\n"
     ]
    }
   ],
   "source": [
    "print(a)"
   ]
  },
  {
   "cell_type": "code",
   "execution_count": 199,
   "id": "a284c577-cfce-42b0-bc77-073b6a7532a7",
   "metadata": {},
   "outputs": [],
   "source": [
    "#40) convert a string to list of characters\n",
    "\n"
   ]
  },
  {
   "cell_type": "code",
   "execution_count": 200,
   "id": "33f7a445-b7af-4269-9df6-b2f18eab2341",
   "metadata": {},
   "outputs": [],
   "source": [
    "s=str(input)"
   ]
  },
  {
   "cell_type": "code",
   "execution_count": 201,
   "id": "56f381c1-93f2-4b47-a846-932626f84a2b",
   "metadata": {},
   "outputs": [],
   "source": [
    "s=\"excersice\""
   ]
  },
  {
   "cell_type": "code",
   "execution_count": 202,
   "id": "dde7e0d0-b150-49e1-854b-8df421811d2c",
   "metadata": {},
   "outputs": [],
   "source": [
    "#to convert string to list\n",
    "char=list(s)"
   ]
  },
  {
   "cell_type": "code",
   "execution_count": 203,
   "id": "6e127bf6-f65c-485c-99ab-08f2452825df",
   "metadata": {},
   "outputs": [
    {
     "name": "stdout",
     "output_type": "stream",
     "text": [
      "['e', 'x', 'c', 'e', 'r', 's', 'i', 'c', 'e']\n"
     ]
    }
   ],
   "source": [
    "print(char)"
   ]
  },
  {
   "cell_type": "code",
   "execution_count": 204,
   "id": "0fa62ecb-b29a-4276-b1ff-e3abd45b073a",
   "metadata": {},
   "outputs": [],
   "source": [
    "#41) to check if two strings are anagrams\n",
    "\n"
   ]
  },
  {
   "cell_type": "code",
   "execution_count": 211,
   "id": "0c83cf98-7e83-4794-a5c7-2942cb59330e",
   "metadata": {},
   "outputs": [],
   "source": [
    "s=str(input)"
   ]
  },
  {
   "cell_type": "code",
   "execution_count": 212,
   "id": "699900ba-a8eb-49f4-bfff-91f1cf18af58",
   "metadata": {},
   "outputs": [],
   "source": [
    "s1=\"listen\""
   ]
  },
  {
   "cell_type": "code",
   "execution_count": 213,
   "id": "3e199fda-fae2-4717-be1c-6f1ef46031bd",
   "metadata": {},
   "outputs": [],
   "source": [
    "s2=\"silent\""
   ]
  },
  {
   "cell_type": "code",
   "execution_count": 214,
   "id": "7a6c6d71-c355-445c-b9e6-9eca770e8e31",
   "metadata": {},
   "outputs": [],
   "source": [
    "w= sorted (s1)==sorted(s2)  # function to check if the two strings are anagrams"
   ]
  },
  {
   "cell_type": "code",
   "execution_count": 215,
   "id": "d7d332fa-6128-4017-a291-b856431f3164",
   "metadata": {},
   "outputs": [
    {
     "name": "stdout",
     "output_type": "stream",
     "text": [
      "the given strings are anagrams: True\n"
     ]
    }
   ],
   "source": [
    "print(\"the given strings are anagrams:\",w)"
   ]
  },
  {
   "cell_type": "code",
   "execution_count": 216,
   "id": "8bf44065-4eec-4115-96b0-3788b1f5a103",
   "metadata": {},
   "outputs": [],
   "source": [
    "#42) to encode a string using caesar cipher\n",
    "\n"
   ]
  },
  {
   "cell_type": "code",
   "execution_count": 102,
   "id": "4dd2030d-78a1-42bc-a6f0-6a3b2c1c5d17",
   "metadata": {},
   "outputs": [],
   "source": [
    "text=\"Hello world\""
   ]
  },
  {
   "cell_type": "code",
   "execution_count": 106,
   "id": "5969b78b-7a48-438a-807f-83e33c350025",
   "metadata": {},
   "outputs": [],
   "source": [
    "shift=3"
   ]
  },
  {
   "cell_type": "code",
   "execution_count": 107,
   "id": "253de61d-9eca-4076-a552-e734f27ef79b",
   "metadata": {},
   "outputs": [],
   "source": [
    "encryption=\" \""
   ]
  },
  {
   "cell_type": "code",
   "execution_count": null,
   "id": "4ff35633-c03c-4d14-92e2-f8267ace69b8",
   "metadata": {},
   "outputs": [],
   "source": []
  },
  {
   "cell_type": "code",
   "execution_count": 108,
   "id": "9fd13672-121a-4f69-bca6-d09101ee6127",
   "metadata": {},
   "outputs": [],
   "source": [
    "for c in text:\n",
    "    if c.isupper():                   #read uppercase in plain text\n",
    "        c_unicode=ord(c)              #ord() reads alphabets in numerical representation  \n",
    "        c_index=  ord(c)- ord(\"A\")\n",
    "        new_index= (c_index+shift) % 26\n",
    "        new_unicode=new_index + ord(\"A\")\n",
    "        new_character= chr(new_unicode) #chr() function accepts a number representation of character and returns character\n",
    "        encryption=encryption+new_character\n",
    "    else:\n",
    "        encryption+=c        \n",
    "       "
   ]
  },
  {
   "cell_type": "code",
   "execution_count": 110,
   "id": "8623a5f7-723d-4d52-b920-48704fca5932",
   "metadata": {},
   "outputs": [
    {
     "name": "stdout",
     "output_type": "stream",
     "text": [
      " the message is: Hello world\n"
     ]
    }
   ],
   "source": [
    "print(\" the message is:\", text)"
   ]
  },
  {
   "cell_type": "code",
   "execution_count": 109,
   "id": "c245edd6-8a41-4ad7-897e-6586d039725a",
   "metadata": {},
   "outputs": [
    {
     "name": "stdout",
     "output_type": "stream",
     "text": [
      "the encoded caesar cipher is:  Kello world\n"
     ]
    }
   ],
   "source": [
    "print(\"the encoded caesar cipher is:\", encryption)"
   ]
  },
  {
   "cell_type": "code",
   "execution_count": 96,
   "id": "bac05a51-f457-4ca5-82e3-c353bc6a5d1b",
   "metadata": {},
   "outputs": [],
   "source": [
    "#43) decode a ceaser cipher encoded string\n",
    "\n"
   ]
  },
  {
   "cell_type": "code",
   "execution_count": 62,
   "id": "6fab3118-0219-425c-a1a3-554b840cae8a",
   "metadata": {},
   "outputs": [],
   "source": [
    "message=\"GIEVRWTA\""
   ]
  },
  {
   "cell_type": "code",
   "execution_count": 63,
   "id": "24e8ee2d-2818-4a33-920c-6d8e7034c995",
   "metadata": {},
   "outputs": [],
   "source": [
    "letters=\"ABCDEFGHIJKLMNOPQRSTUVWXYZ\""
   ]
  },
  {
   "cell_type": "code",
   "execution_count": 64,
   "id": "c9c80bae-37ed-4630-b7de-c011ee0786dd",
   "metadata": {},
   "outputs": [],
   "source": [
    "for key in range(len(letters)):\n",
    "        translated=\"\"\n",
    "        for symbol in message:\n",
    "            if symbol in letters:\n",
    "                num=letters.find(symbol)\n",
    "                num=num-key\n",
    "                if num<0:\n",
    "                    num=num+len(letters)\n",
    "                    translated=translated+letters[num]\n",
    "                else:\n",
    "                         translated=translated+symbol                   \n",
    "                "
   ]
  },
  {
   "cell_type": "code",
   "execution_count": 65,
   "id": "0ac23bcc-ed42-44f6-92ff-75c17f5a88ad",
   "metadata": {},
   "outputs": [
    {
     "name": "stdout",
     "output_type": "stream",
     "text": [
      "hacking key is: (25, 'HJFWSXUB')\n"
     ]
    }
   ],
   "source": [
    "print(\"hacking key is:\", (key,translated))"
   ]
  },
  {
   "cell_type": "code",
   "execution_count": 111,
   "id": "24df5a91-a7aa-4aff-9b0a-5f589fb2e9b8",
   "metadata": {},
   "outputs": [],
   "source": [
    "#44) maximum frequency character in string\n",
    "\n"
   ]
  },
  {
   "cell_type": "code",
   "execution_count": 115,
   "id": "56a9388a-e6f8-412b-9241-df77b244383a",
   "metadata": {},
   "outputs": [],
   "source": [
    "s=str(input)"
   ]
  },
  {
   "cell_type": "code",
   "execution_count": 116,
   "id": "03d92379-2971-44f0-bedb-d0b6b19dc081",
   "metadata": {},
   "outputs": [],
   "source": [
    "s= \"missisippi\""
   ]
  },
  {
   "cell_type": "code",
   "execution_count": 117,
   "id": "ed559289-cb8c-433e-95f1-7cb1efcb722c",
   "metadata": {},
   "outputs": [],
   "source": [
    "freq={}"
   ]
  },
  {
   "cell_type": "code",
   "execution_count": 119,
   "id": "e24d1755-5101-4769-b58a-eb9e1a952125",
   "metadata": {},
   "outputs": [],
   "source": [
    "for i in s:\n",
    "    if i in freq:\n",
    "        freq[i]+=1\n",
    "    else:\n",
    "        freq[i]=1\n",
    "        \n",
    "    res= max(freq, key= freq.get)   \n",
    "        \n",
    "        "
   ]
  },
  {
   "cell_type": "code",
   "execution_count": 120,
   "id": "e4783f09-00ba-4794-a819-8b925f38cef6",
   "metadata": {},
   "outputs": [
    {
     "name": "stdout",
     "output_type": "stream",
     "text": [
      "the maximum frequency character is: i\n"
     ]
    }
   ],
   "source": [
    "print(\"the maximum frequency character is:\", res)"
   ]
  },
  {
   "cell_type": "code",
   "execution_count": 1,
   "id": "96019265-1319-4673-9f29-9c3ca6c4d199",
   "metadata": {},
   "outputs": [],
   "source": [
    "#45) to find all unique words in a string\n",
    "\n"
   ]
  },
  {
   "cell_type": "code",
   "execution_count": 2,
   "id": "659feb0a-ccd1-4d23-920d-8daa40d9a411",
   "metadata": {},
   "outputs": [],
   "source": [
    "s=str(input)"
   ]
  },
  {
   "cell_type": "code",
   "execution_count": 6,
   "id": "c7931e01-d5c7-4403-95a1-2a8378cd0d95",
   "metadata": {},
   "outputs": [],
   "source": [
    "s= \" one into one is one\""
   ]
  },
  {
   "cell_type": "code",
   "execution_count": 7,
   "id": "e7b88bef-df50-4221-b78b-d7ec808398ea",
   "metadata": {},
   "outputs": [],
   "source": [
    "unique_words= set(s.split())    # split the string and create a set for unique words"
   ]
  },
  {
   "cell_type": "code",
   "execution_count": 9,
   "id": "58f15512-77ed-4b53-8482-4d6e2f29f7ce",
   "metadata": {},
   "outputs": [
    {
     "name": "stdout",
     "output_type": "stream",
     "text": [
      " unique words: {'into', 'one', 'is'}\n"
     ]
    }
   ],
   "source": [
    "print(\" unique words:\",unique_words)"
   ]
  },
  {
   "cell_type": "code",
   "execution_count": 10,
   "id": "3b8fffa5-1ab8-411c-9fc9-cedabf054ede",
   "metadata": {},
   "outputs": [],
   "source": [
    "#46)to count the number of syllables in a string\n",
    "\n"
   ]
  },
  {
   "cell_type": "code",
   "execution_count": 30,
   "id": "e4be217b-8cd6-46e9-b0ff-0c404bc380f1",
   "metadata": {},
   "outputs": [
    {
     "name": "stdin",
     "output_type": "stream",
     "text": [
      "enter a word= picture\n"
     ]
    }
   ],
   "source": [
    "word=input(\"enter a word=\")"
   ]
  },
  {
   "cell_type": "code",
   "execution_count": 31,
   "id": "256dde1d-0ace-4c28-95f8-6bcfab4a9042",
   "metadata": {},
   "outputs": [],
   "source": [
    "syllable_count=0"
   ]
  },
  {
   "cell_type": "code",
   "execution_count": 32,
   "id": "ea06b713-cfeb-459c-92ea-b2bbb353deea",
   "metadata": {},
   "outputs": [],
   "source": [
    "for w in word:\n",
    "    if(w=='a' or w=='e' or w=='i' or w=='o' or w=='u' or w=='A' or w=='E' or w=='I' or w=='O' or w=='U'):\n",
    "       syllable_count+=1 \n",
    "       \n",
    "      #counter to count the syllables in input string \n",
    "       "
   ]
  },
  {
   "cell_type": "code",
   "execution_count": 33,
   "id": "acd66a17-dd59-4f98-89f1-c76caaead8fc",
   "metadata": {},
   "outputs": [
    {
     "name": "stdout",
     "output_type": "stream",
     "text": [
      "the number of syllables in the string is: 3\n"
     ]
    }
   ],
   "source": [
    "print(\"the number of syllables in the string is:\", syllable_count)"
   ]
  },
  {
   "cell_type": "code",
   "execution_count": 34,
   "id": "5d0dd6d4-b86e-44d3-8519-c6091891904e",
   "metadata": {},
   "outputs": [],
   "source": [
    "#47) to check if string has special characters\n",
    "\n"
   ]
  },
  {
   "cell_type": "code",
   "execution_count": 48,
   "id": "39a59c33-912b-4758-b139-ea699435ea2a",
   "metadata": {},
   "outputs": [],
   "source": [
    "s=str(input)"
   ]
  },
  {
   "cell_type": "code",
   "execution_count": 49,
   "id": "490f71b8-fcb2-4a64-9279-45b923b2304f",
   "metadata": {},
   "outputs": [],
   "source": [
    "s=\"are$you%coming+to&party\""
   ]
  },
  {
   "cell_type": "code",
   "execution_count": 50,
   "id": "6bcebe98-06a6-430e-80f9-72493814a7af",
   "metadata": {},
   "outputs": [
    {
     "data": {
      "text/plain": [
       "['are$you%coming+to&party']"
      ]
     },
     "execution_count": 50,
     "metadata": {},
     "output_type": "execute_result"
    }
   ],
   "source": [
    "s.split()"
   ]
  },
  {
   "cell_type": "code",
   "execution_count": 51,
   "id": "c8fb5626-2e47-4f7b-b4e7-cfb93cc1c8dd",
   "metadata": {},
   "outputs": [],
   "source": [
    "c=0"
   ]
  },
  {
   "cell_type": "code",
   "execution_count": 52,
   "id": "80cfbc1f-7e93-4df4-89c0-662f4ae146ad",
   "metadata": {},
   "outputs": [],
   "source": [
    "a='[!@#$%^&*()+/<>\\]'"
   ]
  },
  {
   "cell_type": "code",
   "execution_count": 53,
   "id": "bacc8d37-69f8-4056-bb5b-2137a5b6a8ad",
   "metadata": {},
   "outputs": [
    {
     "name": "stdout",
     "output_type": "stream",
     "text": [
      "string is not accepted\n"
     ]
    }
   ],
   "source": [
    "for i in range (len(s)):           #to check if any special character is present in string or not\n",
    "    if s[i] in a:\n",
    "        c+=1                       # if special character found then add 1 to c                   \n",
    "if c:                              #if c value greater than 0 then print no'i:e, special character found\n",
    "    print(\"string is not accepted\")\n",
    "else:\n",
    "    print(\"string is accepted\")"
   ]
  },
  {
   "cell_type": "code",
   "execution_count": 54,
   "id": "a12d8b91-e9a6-4f84-b2ca-d490af1081d9",
   "metadata": {},
   "outputs": [],
   "source": [
    "#48) remove nth word from string\n",
    "\n"
   ]
  },
  {
   "cell_type": "code",
   "execution_count": 77,
   "id": "623d5271-e57c-41e3-9d4a-01c4e94ed1d0",
   "metadata": {},
   "outputs": [],
   "source": [
    "s=str(input)"
   ]
  },
  {
   "cell_type": "code",
   "execution_count": 78,
   "id": "df488aa5-eccf-4e09-a49f-c3b09b9bdac7",
   "metadata": {},
   "outputs": [],
   "source": [
    "s=\"this is fus\""
   ]
  },
  {
   "cell_type": "code",
   "execution_count": 79,
   "id": "946ef21b-762f-4e1d-bda6-220dca597f1b",
   "metadata": {},
   "outputs": [],
   "source": [
    "n=8                               # index to remove word from"
   ]
  },
  {
   "cell_type": "code",
   "execution_count": 80,
   "id": "eec52dbd-0ba6-4420-928d-317f971ca8f4",
   "metadata": {},
   "outputs": [],
   "source": [
    "modified_str=''"
   ]
  },
  {
   "cell_type": "code",
   "execution_count": 81,
   "id": "3f49b3b8-88de-4f5c-829c-0b6a9d7d018d",
   "metadata": {},
   "outputs": [],
   "source": [
    "for char in range(0,len(s)):\n",
    "    if(char!=n):\n",
    "        modified_str+=s[char]"
   ]
  },
  {
   "cell_type": "code",
   "execution_count": 82,
   "id": "d9e65b94-30a5-4ceb-ad4c-5c25215dbf14",
   "metadata": {},
   "outputs": [
    {
     "name": "stdout",
     "output_type": "stream",
     "text": [
      "modified string after removing 8 th character\n"
     ]
    }
   ],
   "source": [
    "print(\"modified string after removing\",n, \"th character\")"
   ]
  },
  {
   "cell_type": "code",
   "execution_count": 83,
   "id": "02947645-4088-4861-91ef-e1aab70871ed",
   "metadata": {},
   "outputs": [
    {
     "name": "stdout",
     "output_type": "stream",
     "text": [
      "this is us\n"
     ]
    }
   ],
   "source": [
    "print(modified_str)"
   ]
  },
  {
   "cell_type": "code",
   "execution_count": 84,
   "id": "e0b0bcdd-b829-4618-adec-82d56ba1d792",
   "metadata": {},
   "outputs": [],
   "source": [
    "#49) to insert a string at nth position\n",
    "\n"
   ]
  },
  {
   "cell_type": "code",
   "execution_count": 85,
   "id": "b1a8a1b9-c514-421f-86e7-4cc365dbd7d6",
   "metadata": {},
   "outputs": [],
   "source": [
    "list1=[4,5,6,7]"
   ]
  },
  {
   "cell_type": "code",
   "execution_count": 87,
   "id": "b7598cf4-a7cb-48a9-a517-deb0e119344d",
   "metadata": {},
   "outputs": [],
   "source": [
    "list2=[8,9,10]"
   ]
  },
  {
   "cell_type": "code",
   "execution_count": 91,
   "id": "a210e28d-9e96-441d-8596-b98f96679c24",
   "metadata": {},
   "outputs": [],
   "source": [
    "n=1         #initializing n"
   ]
  },
  {
   "cell_type": "code",
   "execution_count": 92,
   "id": "5315ccfe-4d43-4eac-a14f-b552f2caa9d6",
   "metadata": {},
   "outputs": [],
   "source": [
    "k=4          #initialising k"
   ]
  },
  {
   "cell_type": "code",
   "execution_count": 93,
   "id": "03548231-93bd-48e5-941e-24079c056c64",
   "metadata": {},
   "outputs": [],
   "source": [
    "res=list1.insert(k, list2.pop(n))    #using pop() +index()+ insert() to insert nth element to kth place"
   ]
  },
  {
   "cell_type": "code",
   "execution_count": 96,
   "id": "15b55f57-f8ce-4c1d-8090-804f5e42edb6",
   "metadata": {},
   "outputs": [
    {
     "name": "stdout",
     "output_type": "stream",
     "text": [
      "list1 after insert is: [4, 5, 6, 7, 9]\n"
     ]
    }
   ],
   "source": [
    "print(\"list1 after insert is:\",list1)"
   ]
  },
  {
   "cell_type": "code",
   "execution_count": 97,
   "id": "2fa2ee63-8bbb-4516-af25-66fa3a814398",
   "metadata": {},
   "outputs": [
    {
     "name": "stdout",
     "output_type": "stream",
     "text": [
      "list2 after insert is: [8, 10]\n"
     ]
    }
   ],
   "source": [
    "print(\"list2 after insert is:\",list2)"
   ]
  },
  {
   "cell_type": "code",
   "execution_count": 98,
   "id": "582970bb-2e9a-44ee-ba41-895862cfd305",
   "metadata": {},
   "outputs": [],
   "source": [
    "#50) convert a .csv string to list of lists\n",
    "\n"
   ]
  },
  {
   "cell_type": "code",
   "execution_count": 118,
   "id": "556faf18-4be4-471c-a2c3-ed77309381f7",
   "metadata": {},
   "outputs": [],
   "source": [
    "s=str(input)"
   ]
  },
  {
   "cell_type": "code",
   "execution_count": 119,
   "id": "62636c7b-265d-4c3f-9d6e-c4dc479afd25",
   "metadata": {},
   "outputs": [],
   "source": [
    "s=\"name age country\\n  alex, 23, usa\\n jeff, 29, usa\\n claire, 40, usa\""
   ]
  },
  {
   "cell_type": "code",
   "execution_count": 120,
   "id": "87236f91-6dd4-4098-bef5-b08ca6933155",
   "metadata": {},
   "outputs": [],
   "source": [
    "lines=s.split('\\n')                  #split csv string into lines"
   ]
  },
  {
   "cell_type": "code",
   "execution_count": 121,
   "id": "41f8cfb1-dd1c-4c33-b665-4015eb28dfcd",
   "metadata": {},
   "outputs": [],
   "source": [
    "result=[]                            #create empty list to store result "
   ]
  },
  {
   "cell_type": "code",
   "execution_count": 122,
   "id": "0b67c665-db92-4f8c-b666-e918eb7a75cf",
   "metadata": {},
   "outputs": [],
   "source": [
    "for line in lines:\n",
    "    fields=line.split(',')           #split each line using a comma\n",
    "    result.append(fields)            #append the final result\n",
    "\n",
    "  \n",
    "                 "
   ]
  },
  {
   "cell_type": "code",
   "execution_count": 125,
   "id": "b5e892f4-783a-450d-afd9-20a405ae86cb",
   "metadata": {},
   "outputs": [
    {
     "name": "stdout",
     "output_type": "stream",
     "text": [
      "['name age country']\n",
      "['  alex', ' 23', ' usa']\n",
      "[' jeff', ' 29', ' usa']\n",
      "[' claire', ' 40', ' usa']\n"
     ]
    }
   ],
   "source": [
    "for row in result:\n",
    "     print(row)"
   ]
  }
 ],
 "metadata": {
  "kernelspec": {
   "display_name": "Python 3 (ipykernel)",
   "language": "python",
   "name": "python3"
  },
  "language_info": {
   "codemirror_mode": {
    "name": "ipython",
    "version": 3
   },
   "file_extension": ".py",
   "mimetype": "text/x-python",
   "name": "python",
   "nbconvert_exporter": "python",
   "pygments_lexer": "ipython3",
   "version": "3.10.6"
  }
 },
 "nbformat": 4,
 "nbformat_minor": 5
}
