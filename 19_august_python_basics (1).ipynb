{
 "cells": [
  {
   "cell_type": "code",
   "execution_count": 1,
   "id": "a0ea57b8-95a0-4602-8771-9db3d41bc9e2",
   "metadata": {},
   "outputs": [],
   "source": [
    "#1) to swap values of variables without using third variable\n",
    "\n"
   ]
  },
  {
   "cell_type": "code",
   "execution_count": 2,
   "id": "b8e1aeba-0fae-4711-b49f-5eb86cd20ef0",
   "metadata": {},
   "outputs": [],
   "source": [
    "x=10"
   ]
  },
  {
   "cell_type": "code",
   "execution_count": 3,
   "id": "5e6df608-5897-4fa5-928a-ea2cb24cfa61",
   "metadata": {},
   "outputs": [],
   "source": [
    "y=20"
   ]
  },
  {
   "cell_type": "code",
   "execution_count": 4,
   "id": "d82621c5-0717-42e2-957b-65f4106e34be",
   "metadata": {},
   "outputs": [],
   "source": [
    "#swap values of x and y without third variable\n",
    "x,y=y,x"
   ]
  },
  {
   "cell_type": "code",
   "execution_count": 5,
   "id": "411676b4-c1b5-4af3-a547-501acecdbfd7",
   "metadata": {},
   "outputs": [
    {
     "name": "stdout",
     "output_type": "stream",
     "text": [
      "20 10\n"
     ]
    }
   ],
   "source": [
    "print(x,y)"
   ]
  },
  {
   "cell_type": "code",
   "execution_count": 6,
   "id": "0d745019-9328-44f1-a3ba-31e0fb969f12",
   "metadata": {},
   "outputs": [],
   "source": [
    "# 2) to find area of rectangle by using input values from user\n",
    "\n"
   ]
  },
  {
   "cell_type": "code",
   "execution_count": 7,
   "id": "3800ed93-d379-4a29-bdb3-fc93e94382f6",
   "metadata": {},
   "outputs": [
    {
     "name": "stdout",
     "output_type": "stream",
     "text": [
      "enter the length of rectangle\n"
     ]
    }
   ],
   "source": [
    "print(\"enter the length of rectangle\")"
   ]
  },
  {
   "cell_type": "code",
   "execution_count": 9,
   "id": "aa2aca07-ff35-4092-bfcd-9711f559d9ad",
   "metadata": {},
   "outputs": [
    {
     "name": "stdin",
     "output_type": "stream",
     "text": [
      " 10\n"
     ]
    }
   ],
   "source": [
    "#store input value in variable l\n",
    "l= int(input())"
   ]
  },
  {
   "cell_type": "code",
   "execution_count": 172,
   "id": "95ddc82f-c890-4386-8c46-b91cf1470ad3",
   "metadata": {},
   "outputs": [
    {
     "name": "stdout",
     "output_type": "stream",
     "text": [
      "10\n"
     ]
    }
   ],
   "source": [
    "print(l)"
   ]
  },
  {
   "cell_type": "code",
   "execution_count": 10,
   "id": "04787596-15c5-448b-94bc-4b6f59b77200",
   "metadata": {},
   "outputs": [
    {
     "name": "stdout",
     "output_type": "stream",
     "text": [
      "enter the bredth of the rectangle\n"
     ]
    }
   ],
   "source": [
    "print(\"enter the bredth of the rectangle\")"
   ]
  },
  {
   "cell_type": "code",
   "execution_count": 13,
   "id": "0db0fbd9-e797-40da-abd1-8b137e74bb28",
   "metadata": {},
   "outputs": [
    {
     "name": "stdin",
     "output_type": "stream",
     "text": [
      " 15\n"
     ]
    }
   ],
   "source": [
    "#store input value in variable b\n",
    "b=int(input())"
   ]
  },
  {
   "cell_type": "code",
   "execution_count": 173,
   "id": "ef216f4d-0861-4b0e-adc5-4464d97958b6",
   "metadata": {},
   "outputs": [
    {
     "name": "stdout",
     "output_type": "stream",
     "text": [
      "15\n"
     ]
    }
   ],
   "source": [
    "print(b)"
   ]
  },
  {
   "cell_type": "code",
   "execution_count": 15,
   "id": "a26ab039-1c54-4686-bfaf-7a1c1fc2d99e",
   "metadata": {},
   "outputs": [],
   "source": [
    "#formula to calculate area\n",
    "area=l*b\n"
   ]
  },
  {
   "cell_type": "code",
   "execution_count": 16,
   "id": "1c5fe36f-e1ae-4a18-9398-427f7a39fb93",
   "metadata": {},
   "outputs": [
    {
     "name": "stdout",
     "output_type": "stream",
     "text": [
      "the area of the rectangle is 150\n"
     ]
    }
   ],
   "source": [
    "print(\"the area of the rectangle is\",area)"
   ]
  },
  {
   "cell_type": "code",
   "execution_count": 17,
   "id": "f34ebd8b-73de-4e5c-a3bc-1cc7eed00a58",
   "metadata": {},
   "outputs": [],
   "source": [
    "# 3) to convert celsius temperature to fahrenheit using input value from user\n",
    "\n"
   ]
  },
  {
   "cell_type": "code",
   "execution_count": 18,
   "id": "273771fd-e800-4e06-8c3d-a4122d1b7da6",
   "metadata": {},
   "outputs": [
    {
     "name": "stdout",
     "output_type": "stream",
     "text": [
      "enter temperature in celsius\n"
     ]
    }
   ],
   "source": [
    "print(\"enter temperature in celsius\")"
   ]
  },
  {
   "cell_type": "code",
   "execution_count": 171,
   "id": "ef7fc9de-6ae9-49ee-aa24-62177cb919ec",
   "metadata": {},
   "outputs": [
    {
     "name": "stdin",
     "output_type": "stream",
     "text": [
      " 27.5\n"
     ]
    }
   ],
   "source": [
    "#user input value\n",
    "c=float(input())"
   ]
  },
  {
   "cell_type": "code",
   "execution_count": 174,
   "id": "c28e9ab2-5017-42e6-9276-8692b5378d04",
   "metadata": {},
   "outputs": [
    {
     "name": "stdout",
     "output_type": "stream",
     "text": [
      "27.5\n"
     ]
    }
   ],
   "source": [
    "print(c)"
   ]
  },
  {
   "cell_type": "code",
   "execution_count": 20,
   "id": "8e1e861a-d71b-41a5-9e9f-00a84da6a704",
   "metadata": {},
   "outputs": [],
   "source": [
    "#formula to convert celsius into fahrenheit\n",
    "t=(c*1.8)+32"
   ]
  },
  {
   "cell_type": "code",
   "execution_count": 21,
   "id": "1551398b-f644-4dfc-9c20-2a063d28744e",
   "metadata": {},
   "outputs": [
    {
     "name": "stdout",
     "output_type": "stream",
     "text": [
      "the temperature in fahrenheit is 81.5\n"
     ]
    }
   ],
   "source": [
    "print(\"the temperature in fahrenheit is\",t)"
   ]
  },
  {
   "cell_type": "code",
   "execution_count": 22,
   "id": "1153d590-1c64-4c14-94a1-77f1579176f6",
   "metadata": {},
   "outputs": [],
   "source": [
    "# 4) to input string and print its length\n",
    "\n"
   ]
  },
  {
   "cell_type": "code",
   "execution_count": 176,
   "id": "b73da8d8-4631-4fc7-90df-12aa0fdbf6f1",
   "metadata": {},
   "outputs": [
    {
     "name": "stdout",
     "output_type": "stream",
     "text": [
      "enter the string\n"
     ]
    }
   ],
   "source": [
    "print(\"enter the string\")"
   ]
  },
  {
   "cell_type": "code",
   "execution_count": 177,
   "id": "ee478875-11e2-4720-be11-d6de7af08eb0",
   "metadata": {},
   "outputs": [
    {
     "name": "stdin",
     "output_type": "stream",
     "text": [
      " philadelphia\n"
     ]
    }
   ],
   "source": [
    "#user inputs string and stores it in variable s\n",
    "s=str(input())"
   ]
  },
  {
   "cell_type": "code",
   "execution_count": 178,
   "id": "dad208bf-0fda-4b2e-81e7-72777def45ed",
   "metadata": {},
   "outputs": [
    {
     "name": "stdout",
     "output_type": "stream",
     "text": [
      "philadelphia\n"
     ]
    }
   ],
   "source": [
    "print(s)"
   ]
  },
  {
   "cell_type": "code",
   "execution_count": 25,
   "id": "780fcf4e-98e6-4c80-bf40-e76d6416f673",
   "metadata": {},
   "outputs": [
    {
     "name": "stdout",
     "output_type": "stream",
     "text": [
      "the lenth of the string is 12\n"
     ]
    }
   ],
   "source": [
    "#len() command to find the length of the input string\n",
    "print(\"the lenth of the string is\",len(s))"
   ]
  },
  {
   "cell_type": "code",
   "execution_count": 26,
   "id": "7566b940-5306-4a45-b50d-9b52cbdd669b",
   "metadata": {},
   "outputs": [],
   "source": [
    "# 5) to take a sentence from user and count the vowels\n",
    "\n"
   ]
  },
  {
   "cell_type": "code",
   "execution_count": 85,
   "id": "4f19b668-8ebf-4684-b00c-9e5665fbb45a",
   "metadata": {},
   "outputs": [
    {
     "name": "stdout",
     "output_type": "stream",
     "text": [
      "enter a sentence\n"
     ]
    }
   ],
   "source": [
    "print(\"enter a sentence\")"
   ]
  },
  {
   "cell_type": "code",
   "execution_count": 183,
   "id": "952b9e9c-5002-41c8-9225-2087c6383ec5",
   "metadata": {},
   "outputs": [
    {
     "name": "stdin",
     "output_type": "stream",
     "text": [
      " ARE you WILLING to go to the CONCERT\n"
     ]
    }
   ],
   "source": [
    "#input string by user\n",
    "s=str(input())"
   ]
  },
  {
   "cell_type": "code",
   "execution_count": 184,
   "id": "c6e7e527-8a12-4e2a-95a6-e0e6dc49a4f0",
   "metadata": {},
   "outputs": [
    {
     "name": "stdout",
     "output_type": "stream",
     "text": [
      "ARE you WILLING to go to the CONCERT\n"
     ]
    }
   ],
   "source": [
    "print(s)"
   ]
  },
  {
   "cell_type": "code",
   "execution_count": 185,
   "id": "b1e8add5-ff44-49a5-b012-6afec3fb15dd",
   "metadata": {},
   "outputs": [
    {
     "data": {
      "text/plain": [
       "'are you willing to go to the concert'"
      ]
     },
     "execution_count": 185,
     "metadata": {},
     "output_type": "execute_result"
    }
   ],
   "source": [
    "#convert the uppercase to lowercase\n",
    "str.lower(s)"
   ]
  },
  {
   "cell_type": "code",
   "execution_count": 186,
   "id": "69a75b32-356c-4d66-8605-9b2e6f28ea19",
   "metadata": {},
   "outputs": [
    {
     "data": {
      "text/plain": [
       "12"
      ]
     },
     "execution_count": 186,
     "metadata": {},
     "output_type": "execute_result"
    }
   ],
   "source": [
    "#to count the number of vowels in above string\n",
    "len(vowels)"
   ]
  },
  {
   "cell_type": "code",
   "execution_count": 96,
   "id": "d35351e5-e611-4fcb-a43d-e659fa366a14",
   "metadata": {},
   "outputs": [
    {
     "name": "stdout",
     "output_type": "stream",
     "text": [
      "the number of vowels in the sentence is: 12\n"
     ]
    }
   ],
   "source": [
    "print(\"the number of vowels in the sentence is:\",(len(vowels)))"
   ]
  },
  {
   "cell_type": "code",
   "execution_count": 100,
   "id": "01b4035f-11cc-4398-95f2-5a4f3a4ccd5a",
   "metadata": {},
   "outputs": [],
   "source": [
    "# 6) to reverse the order of a string using splicing\n",
    "\n"
   ]
  },
  {
   "cell_type": "code",
   "execution_count": 152,
   "id": "b54e1a9d-970f-4268-a2ca-6b0c27c3d58d",
   "metadata": {},
   "outputs": [],
   "source": [
    "#string input\n",
    "s=\"i will achieve everything i manifest\""
   ]
  },
  {
   "cell_type": "code",
   "execution_count": 153,
   "id": "256c02aa-2186-49c5-902a-0c933f4fc743",
   "metadata": {},
   "outputs": [
    {
     "name": "stdout",
     "output_type": "stream",
     "text": [
      "i will achieve everything i manifest\n"
     ]
    }
   ],
   "source": [
    "print(s)"
   ]
  },
  {
   "cell_type": "code",
   "execution_count": 154,
   "id": "9914adb5-2287-4132-93b6-99659b8e7cb4",
   "metadata": {},
   "outputs": [
    {
     "data": {
      "text/plain": [
       "'tsefinam i gnihtyreve eveihca lliw i'"
      ]
     },
     "execution_count": 154,
     "metadata": {},
     "output_type": "execute_result"
    }
   ],
   "source": [
    "#start at stringlength\n",
    "#go to the end\n",
    "#move one step backwards\n",
    "s[::-1]"
   ]
  },
  {
   "cell_type": "code",
   "execution_count": 155,
   "id": "4f97e060-dbc1-495a-bd99-78de2dbb9965",
   "metadata": {},
   "outputs": [
    {
     "name": "stdout",
     "output_type": "stream",
     "text": [
      "the reverse order of the above string is tsefinam i gnihtyreve eveihca lliw i\n"
     ]
    }
   ],
   "source": [
    "print(\"the reverse order of the above string is\", s[::-1])"
   ]
  },
  {
   "cell_type": "code",
   "execution_count": 123,
   "id": "0c81631a-df9e-41de-8f22-1f90d15a1321",
   "metadata": {},
   "outputs": [],
   "source": [
    "#7) take string as input and check if its a pallindrome\n",
    "\n"
   ]
  },
  {
   "cell_type": "code",
   "execution_count": 124,
   "id": "c65a8925-50e3-49e9-bab2-8d3660b74538",
   "metadata": {},
   "outputs": [
    {
     "name": "stdout",
     "output_type": "stream",
     "text": [
      "enter a string\n"
     ]
    }
   ],
   "source": [
    "print(\"enter a string\")"
   ]
  },
  {
   "cell_type": "code",
   "execution_count": 188,
   "id": "fde0f00d-29fe-4409-8990-69ffc83de07e",
   "metadata": {},
   "outputs": [
    {
     "name": "stdin",
     "output_type": "stream",
     "text": [
      " fisherman\n"
     ]
    }
   ],
   "source": [
    "#input string by user\n",
    "s=str(input())"
   ]
  },
  {
   "cell_type": "code",
   "execution_count": 189,
   "id": "49832fc7-89fe-4e15-bec8-a0738e1963f0",
   "metadata": {},
   "outputs": [
    {
     "name": "stdout",
     "output_type": "stream",
     "text": [
      "fisherman\n"
     ]
    }
   ],
   "source": [
    "print(s)"
   ]
  },
  {
   "cell_type": "code",
   "execution_count": 142,
   "id": "f61c7188-626f-45b5-9455-8a4f7c3c1d5f",
   "metadata": {},
   "outputs": [],
   "source": [
    "#checks whether forwards=backwards and stores the answer in variable y\n",
    "y= s[0:10]==s[::-1]"
   ]
  },
  {
   "cell_type": "code",
   "execution_count": 143,
   "id": "735896b9-dd49-4495-abe3-dccd9f54907b",
   "metadata": {},
   "outputs": [
    {
     "name": "stdout",
     "output_type": "stream",
     "text": [
      "Is the given string is a pallindrome? False\n"
     ]
    }
   ],
   "source": [
    "print(\"Is the given string is a pallindrome?\",y)"
   ]
  },
  {
   "cell_type": "code",
   "execution_count": 190,
   "id": "5f1c9439-0646-48a9-a437-09572ee1215c",
   "metadata": {},
   "outputs": [
    {
     "name": "stdin",
     "output_type": "stream",
     "text": [
      " racecar\n"
     ]
    }
   ],
   "source": [
    "s=str(input())"
   ]
  },
  {
   "cell_type": "code",
   "execution_count": 191,
   "id": "73e3b0ad-e703-4a59-a91d-d04974918416",
   "metadata": {},
   "outputs": [
    {
     "name": "stdout",
     "output_type": "stream",
     "text": [
      "racecar\n"
     ]
    }
   ],
   "source": [
    "print(s)"
   ]
  },
  {
   "cell_type": "code",
   "execution_count": 146,
   "id": "4084c7d3-4ac9-4a49-989e-167da0c01763",
   "metadata": {},
   "outputs": [],
   "source": [
    "z= s[0:8]==s[::-1]"
   ]
  },
  {
   "cell_type": "code",
   "execution_count": 148,
   "id": "75b8b458-51a5-42ff-a0ec-a56bff9eaf9a",
   "metadata": {},
   "outputs": [
    {
     "name": "stdout",
     "output_type": "stream",
     "text": [
      "Is the given string a pallindrome? True\n"
     ]
    }
   ],
   "source": [
    "print(\"Is the given string a pallindrome?\",z)"
   ]
  },
  {
   "cell_type": "code",
   "execution_count": 156,
   "id": "c6f62bf0-9a69-487d-9d99-5be57970642b",
   "metadata": {},
   "outputs": [],
   "source": [
    "#8) take string as input and remove all spacea\n",
    "\n"
   ]
  },
  {
   "cell_type": "code",
   "execution_count": 157,
   "id": "19a11d54-4797-4ff6-a0cf-ea5b9b81ef84",
   "metadata": {},
   "outputs": [
    {
     "name": "stdout",
     "output_type": "stream",
     "text": [
      "enter a string\n"
     ]
    }
   ],
   "source": [
    "print(\"enter a string\")"
   ]
  },
  {
   "cell_type": "code",
   "execution_count": 158,
   "id": "0b0c7668-b606-4a1d-ad9e-980e7c17a52f",
   "metadata": {},
   "outputs": [],
   "source": [
    "s=\" I am a positive person \""
   ]
  },
  {
   "cell_type": "code",
   "execution_count": 168,
   "id": "096359ab-5ee6-466c-a731-6b828ad1da5f",
   "metadata": {},
   "outputs": [],
   "source": [
    "#remove all spaces in input string\n",
    "a= s.replace(\" \",\"\")"
   ]
  },
  {
   "cell_type": "code",
   "execution_count": 170,
   "id": "47a720e7-be3c-42ea-9920-4884e004facd",
   "metadata": {},
   "outputs": [
    {
     "name": "stdout",
     "output_type": "stream",
     "text": [
      "the modified string without spaces is Iamapositiveperson\n"
     ]
    }
   ],
   "source": [
    "print(\"the modified string without spaces is\",a)"
   ]
  }
 ],
 "metadata": {
  "kernelspec": {
   "display_name": "Python 3 (ipykernel)",
   "language": "python",
   "name": "python3"
  },
  "language_info": {
   "codemirror_mode": {
    "name": "ipython",
    "version": 3
   },
   "file_extension": ".py",
   "mimetype": "text/x-python",
   "name": "python",
   "nbconvert_exporter": "python",
   "pygments_lexer": "ipython3",
   "version": "3.10.6"
  }
 },
 "nbformat": 4,
 "nbformat_minor": 5
}
